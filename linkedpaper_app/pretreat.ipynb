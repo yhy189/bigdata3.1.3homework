{
 "cells": [
  {
   "cell_type": "code",
   "id": "f36f44ccf67f3bbc",
   "metadata": {
    "ExecuteTime": {
     "end_time": "2024-11-17T08:37:01.202373Z",
     "start_time": "2024-11-17T08:36:45.948253Z"
    }
   },
   "source": [
    "import pandas as pd\n",
    "import numpy as np\n",
    "\n",
    "# 读取论文数据，假设列名为 ['title', 'abstract', 'category', 'year']\n",
    "papers = pd.read_csv('data/papers.csv')\n",
    "print(\"Papers DataFrame Shape:\", papers.shape)\n",
    "\n",
    "# 读取特征向量数据，假设有128个特征\n",
    "feats = pd.read_csv('data/feats.csv').values.astype(np.float32)\n",
    "column_names1 = [f'feature_{i}' for i in range(1, 129)]\n",
    "\n",
    "# 将 NumPy 数组转换为 DataFrame 并设置列名\n",
    "feats = pd.DataFrame(feats, columns=column_names1)\n",
    "print(\"Feature Vector Shape:\", feats.shape)\n",
    "\n",
    "# 将修改后的特征向量 DataFrame 保存回原文件\n",
    "feats.to_csv('data/feats.csv', index=False, header=True)\n",
    "\n",
    "# 读取引用关系数据，假设列名为 ['citing_paper_id', 'cited_paper_id']\n",
    "edges = pd.read_csv('data/edge.csv')\n",
    "column_names2 = ['citing_paper_id', 'cited_paper_id']\n",
    "edges.columns = column_names2\n",
    "print(\"Edges DataFrame Shape:\", edges.shape)\n",
    "\n",
    "# 将修改后的引用关系 DataFrame 保存回原文件\n",
    "edges.to_csv('data/edge.csv', index=False, header=True)"
   ],
   "outputs": [
    {
     "name": "stdout",
     "output_type": "stream",
     "text": [
      "Papers DataFrame Shape: (169343, 4)\n",
      "Feature Vector Shape: (169342, 128)\n",
      "Edges DataFrame Shape: (1166242, 2)\n"
     ]
    }
   ],
   "execution_count": 11
  },
  {
   "metadata": {
    "ExecuteTime": {
     "end_time": "2024-11-17T08:37:05.595461Z",
     "start_time": "2024-11-17T08:37:04.407686Z"
    }
   },
   "cell_type": "code",
   "source": [
    "# 检查缺失值\n",
    "print(\"Missing values in Papers DataFrame:\")\n",
    "print(papers.isnull().sum())\n",
    "\n",
    "# 删除含有缺失值的行\n",
    "papers_cleaned = papers.dropna()\n",
    "print(\"Cleaned Papers DataFrame Shape:\", papers_cleaned.shape)\n",
    "\n",
    "# 检查重复项\n",
    "duplicates_papers = papers_cleaned.duplicated().sum()\n",
    "print(\"Number of duplicate papers:\", duplicates_papers)\n",
    "\n",
    "# 删除重复数据\n",
    "papers_cleaned = papers_cleaned.drop_duplicates()\n",
    "print(\"Papers DataFrame after duplicates removal:\", papers_cleaned.shape)"
   ],
   "id": "f86228f032245b7c",
   "outputs": [
    {
     "name": "stdout",
     "output_type": "stream",
     "text": [
      "Missing values in Papers DataFrame:\n",
      "title       0\n",
      "abstract    0\n",
      "category    0\n",
      "year        0\n",
      "dtype: int64\n",
      "Cleaned Papers DataFrame Shape: (169343, 4)\n",
      "Number of duplicate papers: 2\n",
      "Papers DataFrame after duplicates removal: (169341, 4)\n"
     ]
    }
   ],
   "execution_count": 12
  },
  {
   "metadata": {
    "ExecuteTime": {
     "end_time": "2024-11-17T08:37:08.197887Z",
     "start_time": "2024-11-17T08:37:07.574083Z"
    }
   },
   "cell_type": "code",
   "source": [
    "# 检查特征向量的维度\n",
    "if feats.ndim != 2:\n",
    "    raise ValueError(\"Feature vectors should be 2-dimensional (samples x features).\")\n",
    "\n",
    "# 查看特征向量的统计信息\n",
    "feats_df = pd.DataFrame(feats)\n",
    "print(\"Features Descriptive Statistics:\")\n",
    "print(feats_df.describe())\n",
    "\n",
    "# 检查异常值，可以设定阈值，比如超过3个标准差\n",
    "outliers = np.any(np.abs(feats) > 3, axis=1)\n",
    "print(\"Number of outlier feature vectors: \", np.sum(outliers))\n",
    "\n",
    "# 去除异常值\n",
    "feats_cleaned = feats[~outliers]\n",
    "print(\"Scaled Features Shape after outlier removal:\", feats_cleaned.shape)"
   ],
   "id": "28e079dd670a23a3",
   "outputs": [
    {
     "name": "stdout",
     "output_type": "stream",
     "text": [
      "Features Descriptive Statistics:\n",
      "           feature_1      feature_2      feature_3      feature_4  \\\n",
      "count  169342.000000  169342.000000  169342.000000  169342.000000   \n",
      "mean       -0.095499       0.018615      -0.200258      -0.050083   \n",
      "std         0.104758       0.107905       0.114009       0.117657   \n",
      "min        -0.753942      -0.711038      -1.239961      -0.826783   \n",
      "25%        -0.161587      -0.050625      -0.270516      -0.127759   \n",
      "50%        -0.095250       0.016597      -0.197415      -0.054509   \n",
      "75%        -0.029251       0.085527      -0.126237       0.023044   \n",
      "max         0.698438       0.709360       0.610937       0.878995   \n",
      "\n",
      "           feature_5      feature_6      feature_7      feature_8  \\\n",
      "count  169342.000000  169342.000000  169342.000000  169342.000000   \n",
      "mean        0.049300      -0.085222      -0.369258      -0.111833   \n",
      "std         0.106438       0.107369       0.114723       0.130831   \n",
      "min        -0.899320      -1.006146      -1.050989      -1.061832   \n",
      "25%        -0.016999      -0.152591      -0.443578      -0.199087   \n",
      "50%         0.050127      -0.085322      -0.370542      -0.118406   \n",
      "75%         0.117085      -0.017517      -0.296716      -0.032148   \n",
      "max         0.714684       0.658821       0.418793       0.844044   \n",
      "\n",
      "           feature_9     feature_10  ...    feature_119    feature_120  \\\n",
      "count  169342.000000  169342.000000  ...  169342.000000  169342.000000   \n",
      "mean        0.083999       0.045889  ...      -0.008353      -0.015713   \n",
      "std         0.143300       0.115817  ...       0.101803       0.107517   \n",
      "min        -0.818375      -0.885494  ...      -0.682898      -0.768404   \n",
      "25%        -0.013166      -0.028734  ...      -0.074428      -0.084878   \n",
      "50%         0.084123       0.045137  ...      -0.010990      -0.017208   \n",
      "75%         0.179827       0.120010  ...       0.054900       0.051206   \n",
      "max         0.878136       0.837103  ...       0.921070       1.145760   \n",
      "\n",
      "         feature_121    feature_122    feature_123    feature_124  \\\n",
      "count  169342.000000  169342.000000  169342.000000  169342.000000   \n",
      "mean       -0.186888      -0.080386       0.315474      -0.091897   \n",
      "std         0.119635       0.101783       0.110269       0.139332   \n",
      "min        -1.058276      -0.882519      -0.573742      -0.907688   \n",
      "25%        -0.261228      -0.144697       0.248785      -0.184339   \n",
      "50%        -0.185112      -0.082802       0.319374      -0.089469   \n",
      "75%        -0.109843      -0.018256       0.387041       0.001954   \n",
      "max         0.759809       0.902845       1.076078       0.847290   \n",
      "\n",
      "         feature_125    feature_126    feature_127    feature_128  \n",
      "count  169342.000000  169342.000000  169342.000000  169342.000000  \n",
      "mean        0.133277       0.113858      -0.062727      -0.128833  \n",
      "std         0.116600       0.106253       0.114659       0.098772  \n",
      "min        -0.648044      -0.600410      -0.962844      -0.862064  \n",
      "25%         0.056764       0.048758      -0.132418      -0.191150  \n",
      "50%         0.127972       0.115555      -0.057421      -0.129554  \n",
      "75%         0.203925       0.181553       0.013149      -0.066776  \n",
      "max         1.105174       0.849240       0.626516       0.644890  \n",
      "\n",
      "[8 rows x 128 columns]\n",
      "Number of outlier feature vectors:  0\n",
      "Scaled Features Shape after outlier removal: (169342, 128)\n"
     ]
    }
   ],
   "execution_count": 13
  },
  {
   "metadata": {
    "ExecuteTime": {
     "end_time": "2024-11-17T08:37:12.216454Z",
     "start_time": "2024-11-17T08:37:10.362442Z"
    }
   },
   "cell_type": "code",
   "source": [
    "import pandas as pd\n",
    "\n",
    "# 假设您已经读取了 CSV 文件\n",
    "df = pd.read_csv('data/feats.csv')  # 替换为您的文件路径\n",
    "\n",
    "# 显示列名\n",
    "print(df.columns)"
   ],
   "id": "a251b7583447f50f",
   "outputs": [
    {
     "name": "stdout",
     "output_type": "stream",
     "text": [
      "Index(['feature_1', 'feature_2', 'feature_3', 'feature_4', 'feature_5',\n",
      "       'feature_6', 'feature_7', 'feature_8', 'feature_9', 'feature_10',\n",
      "       ...\n",
      "       'feature_119', 'feature_120', 'feature_121', 'feature_122',\n",
      "       'feature_123', 'feature_124', 'feature_125', 'feature_126',\n",
      "       'feature_127', 'feature_128'],\n",
      "      dtype='object', length=128)\n"
     ]
    }
   ],
   "execution_count": 14
  },
  {
   "metadata": {
    "ExecuteTime": {
     "end_time": "2024-11-17T08:37:14.500275Z",
     "start_time": "2024-11-17T08:37:13.671106Z"
    }
   },
   "cell_type": "code",
   "source": [
    "import pandas as pd\n",
    "\n",
    "# 假设 edges 是你的引用数据 DataFrame\n",
    "# 这里可以用一个例子 DataFrame 初始化 edges\n",
    "# edges = pd.DataFrame({'citing_paper_id': [1, 2, 0, 4], 'cited_paper_id': [3, 0, 5, 6]})\n",
    "\n",
    "# 1. 检查缺失值\n",
    "print(\"Missing values in Edges DataFrame:\")\n",
    "print(edges.isnull().sum())\n",
    "\n",
    "# 2. 检查重复项\n",
    "duplicates_edges = edges.duplicated().sum()\n",
    "print(\"Number of duplicate citation edges:\", duplicates_edges)\n",
    "\n",
    "# 3. 删除重复项\n",
    "edges_cleaned = edges.drop_duplicates()\n",
    "print(\"Cleaned Edges DataFrame Shape after removing duplicates:\", edges_cleaned.shape)\n",
    "\n",
    "# 4. 删除引用和被引用其中之一为 0 的行\n",
    "initial_shape = edges_cleaned.shape\n",
    "edges_cleaned = edges_cleaned[(edges_cleaned['citing_paper_id'] != 0) & \n",
    "                              (edges_cleaned['cited_paper_id'] != 0)]\n",
    "removed_zero_edges = initial_shape[0] - edges_cleaned.shape[0]\n",
    "print(\"Number of edges removed with 0 IDs:\", removed_zero_edges)\n",
    "\n",
    "print(\"Cleaned Edges DataFrame Shape after removing edges with 0 IDs:\", edges_cleaned.shape)\n",
    "\n",
    "# 5. 保存处理后的 edges 到 CSV 文件\n",
    "edges_cleaned.to_csv('data/edge.csv', index=False)"
   ],
   "id": "60abde2662afb709",
   "outputs": [
    {
     "name": "stdout",
     "output_type": "stream",
     "text": [
      "Missing values in Edges DataFrame:\n",
      "citing_paper_id    0\n",
      "cited_paper_id     0\n",
      "dtype: int64\n",
      "Number of duplicate citation edges: 0\n",
      "Cleaned Edges DataFrame Shape after removing duplicates: (1166242, 2)\n",
      "Number of edges removed with 0 IDs: 291\n",
      "Cleaned Edges DataFrame Shape after removing edges with 0 IDs: (1165951, 2)\n"
     ]
    }
   ],
   "execution_count": 15
  },
  {
   "metadata": {
    "collapsed": true,
    "ExecuteTime": {
     "end_time": "2024-11-07T13:28:18.276215Z",
     "start_time": "2024-11-07T13:28:18.273299Z"
    }
   },
   "cell_type": "code",
   "source": "",
   "id": "initial_id",
   "outputs": [],
   "execution_count": null
  }
 ],
 "metadata": {
  "kernelspec": {
   "display_name": "Python 3",
   "language": "python",
   "name": "python3"
  },
  "language_info": {
   "codemirror_mode": {
    "name": "ipython",
    "version": 2
   },
   "file_extension": ".py",
   "mimetype": "text/x-python",
   "name": "python",
   "nbconvert_exporter": "python",
   "pygments_lexer": "ipython2",
   "version": "2.7.6"
  }
 },
 "nbformat": 4,
 "nbformat_minor": 5
}
